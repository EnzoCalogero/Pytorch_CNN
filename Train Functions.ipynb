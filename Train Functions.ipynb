{
 "cells": [
  {
   "cell_type": "markdown",
   "metadata": {},
   "source": [
    "### Library"
   ]
  },
  {
   "cell_type": "code",
   "execution_count": 1,
   "metadata": {},
   "outputs": [],
   "source": [
    "import torch\n",
    "import torch.utils.data as data\n",
    "import torch.nn as nn\n",
    "import torch.optim as optim\n",
    "import torch.nn.functional as F\n",
    "from torch.autograd import Variable\n",
    "from torchvision import datasets, transforms, models\n",
    "import torchvision\n",
    "import torchvision.transforms as transforms\n",
    "import torchvision.models as models\n",
    "from torchvision import datasets, transforms\n",
    "import numpy as np\n",
    "import matplotlib.pyplot as plt\n",
    "import json\n",
    "from collections import OrderedDict\n",
    "import PIL \n",
    "from PIL import Image"
   ]
  },
  {
   "cell_type": "code",
   "execution_count": null,
   "metadata": {},
   "outputs": [],
   "source": [
    "model = models.alexnet(pretrained=True)\n",
    "print(model)\n",
    "model.classifier.parameters"
   ]
  },
  {
   "cell_type": "code",
   "execution_count": null,
   "metadata": {},
   "outputs": [],
   "source": [
    "features = list(model.classifier.children())[:-1]\n",
    "num_filters = model.classifier[len(features)].in_features\n",
    "num_filters"
   ]
  },
  {
   "cell_type": "code",
   "execution_count": null,
   "metadata": {},
   "outputs": [],
   "source": [
    "model = models.vgg16(pretrained=True)\n",
    "print(model)\n",
    "classifier_input_size = model.classifier[0].in_features"
   ]
  },
  {
   "cell_type": "code",
   "execution_count": null,
   "metadata": {},
   "outputs": [],
   "source": [
    "classifier_input_size "
   ]
  },
  {
   "cell_type": "code",
   "execution_count": 2,
   "metadata": {},
   "outputs": [],
   "source": [
    "def define_model(artitecture, hidden, learn_rate, gpu):\n",
    "    from collections import OrderedDict\n",
    "    \n",
    "    \n",
    "    if artitecture == 'vgg13':\n",
    "        model = models.vgg16(pretrained=True)\n",
    "        classifier_input_size = model.classifier[0].in_features\n",
    "    elif artitecture == 'densenet121':\n",
    "        model = models.densenet121(pretrained=True)\n",
    "        classifier_input_size = 1024\n",
    "    else:\n",
    "        print(\"No Valid Architecture!!!\")\n",
    "        stop()\n",
    "        \n",
    "    hidden = hidden\n",
    "    classifier_output_size = 102\n",
    "\n",
    "    classifier = nn.Sequential(OrderedDict([           \n",
    "                              ('fc1', nn.Linear(classifier_input_size, hidden)), \n",
    "                              ('relu1', nn.ReLU()),\n",
    "                              ('drop',nn.Dropout(p=0.2)),\n",
    "                              ('fc2', nn.Linear(hidden,classifier_output_size)),\n",
    "                              ('output', nn.LogSoftmax(dim=1))\n",
    "                              ]))\n",
    "\n",
    "    model.classifier = classifier\n",
    "   \n",
    "    optimizer = optim.Adam(model.classifier.parameters(), lr=learn_rate)\n",
    "    if gpu == True:\n",
    "        model.cuda()\n",
    "        \n",
    "    return optimizer, model"
   ]
  },
  {
   "cell_type": "code",
   "execution_count": 3,
   "metadata": {},
   "outputs": [],
   "source": [
    "def train_model(model, learn_rate, epochs, gpu):\n",
    "    # data needs for traing the model\n",
    "    \n",
    "    data_dir = 'flowers'\n",
    "    train_dir = data_dir + '/train'\n",
    "    valid_dir = data_dir + '/valid'\n",
    "    test_dir = data_dir + '/test'\n",
    "    \n",
    "    batch_size = 32\n",
    "    \n",
    "    train_transforms = transforms.Compose([\n",
    "                                transforms.Resize(224),\n",
    "                                transforms.RandomRotation(30),\n",
    "                                transforms.RandomResizedCrop(224),\n",
    "                                transforms.RandomHorizontalFlip(),\n",
    "                                transforms.ToTensor(),\n",
    "                                transforms.Normalize(mean=[0.485, 0.456, 0.406], \n",
    "                                                                std=[0.229, 0.224, 0.225])])\n",
    "    valid_transforms = transforms.Compose([\n",
    "                                transforms.RandomResizedCrop(224),\n",
    "                                transforms.ToTensor(),\n",
    "                                transforms.Normalize([0.485, 0.456, 0.406], [0.229, 0.224, 0.225])\n",
    "                                ])\n",
    "    test_transforms = transforms.Compose([\n",
    "                                transforms.RandomResizedCrop(224),\n",
    "                                transforms.ToTensor(),\n",
    "                                transforms.Normalize([0.485, 0.456, 0.406], [0.229, 0.224, 0.225])\n",
    "                                ])\n",
    "\n",
    "    train_data = datasets.ImageFolder(train_dir, transform=train_transforms)\n",
    "    valid_data = datasets.ImageFolder(valid_dir, transform=valid_transforms)\n",
    "    test_data = datasets.ImageFolder(test_dir, transform=test_transforms)\n",
    "\n",
    "    trainloader = torch.utils.data.DataLoader(train_data, batch_size=batch_size, shuffle=True)\n",
    "    validloader = torch.utils.data.DataLoader(valid_data, batch_size=batch_size, shuffle=True)\n",
    "    testloader = torch.utils.data.DataLoader(test_data, batch_size=batch_size, shuffle=True)\n",
    "    \n",
    "    # Configurations for the Traing\n",
    "    \n",
    "    criterion = nn.NLLLoss()\n",
    "    optimizer = optim.Adam(model.classifier.parameters(), lr=learn_rate)\n",
    "    \n",
    "    epochs =epochs\n",
    "    steps = 0\n",
    "    training_loss = 0\n",
    "    print_every = 50\n",
    "    \n",
    "    # Training Procedure\n",
    "\n",
    "    for e in range(epochs):\n",
    "        model.train()\n",
    "        for images, labels in iter(trainloader):\n",
    "            steps += 1\n",
    "            if gpu == True:\n",
    "                inputs = Variable(images.cuda())\n",
    "                targets = Variable(labels.cuda())\n",
    "            else:\n",
    "                inputs = Variable(images)\n",
    "                targets = Variable(labels)\n",
    "            \n",
    "            optimizer.zero_grad()\n",
    "\n",
    "            output = model.forward(inputs)\n",
    "            loss = criterion(output, targets)\n",
    "            loss.backward()\n",
    "            optimizer.step()\n",
    "\n",
    "            training_loss += loss.data[0]\n",
    "\n",
    "            if steps % print_every == 0:\n",
    "                model.eval()\n",
    "                accuracy = 0\n",
    "                validn_loss = 0\n",
    "                for ii, (images, labels) in enumerate(validloader):\n",
    "\n",
    "                    if gpu == True:\n",
    "                        inputs = Variable(images.cuda(), volatile=True)\n",
    "                        labels = Variable(labels.cuda(), volatile=True)\n",
    "                    else:\n",
    "                        inputs = Variable(images)\n",
    "                        labels = Variable(labels) \n",
    "                    \n",
    "                    output = model.forward(inputs)\n",
    "                    validn_loss += criterion(output, labels).data[0]\n",
    "                    ps = torch.exp(output).data\n",
    "                    equality = (labels.data == ps.max(1)[1])\n",
    "                    accuracy += equality.type_as(torch.FloatTensor()).mean()\n",
    "\n",
    "\n",
    "                print(\"Epoch: {}/{}.. \".format(e+1, epochs),\n",
    "                      \"Training Loss: {:.3f}.. \".format(training_loss/print_every),\n",
    "                      \"Validation Loss: {:.3f}.. \".format(validn_loss/len(validloader)),\n",
    "                      \"Validation Accuracy: {:.3f}\".format(accuracy/len(validloader)))\n",
    "\n",
    "                training_loss = 0\n",
    "\n",
    "\n",
    "                model.train()\n",
    "    print(\"Training complete successfully\")\n",
    "    "
   ]
  },
  {
   "cell_type": "code",
   "execution_count": 4,
   "metadata": {},
   "outputs": [],
   "source": [
    "def save_status(model,filename, artitecture, hidden):\n",
    "   \n",
    "    #model.class_to_idx = train_data.class_to_idx\n",
    "\n",
    "    checkpoint = {\n",
    "                  'state_dict': model.state_dict(),\n",
    "                  'image_datasets' : model.class_to_idx,\n",
    "                  'artitecture': artitecture,\n",
    "                  'hidden': hidden,\n",
    "                  #'epochs': epochs,\n",
    "                  #'optimizer': optimizer.state_dict(),\n",
    "                  'model': model,\n",
    "                 }\n",
    "\n",
    "    torch.save(checkpoint, filename)\n",
    "    print(\"Saved\")"
   ]
  },
  {
   "cell_type": "code",
   "execution_count": 5,
   "metadata": {},
   "outputs": [],
   "source": [
    "def mainFunction(artitecture, hidden, learn_rate, epochs, filename, gpu):\n",
    "    data_dir = 'flowers'\n",
    "    train_dir = data_dir + '/train'\n",
    "    valid_dir = data_dir + '/valid'\n",
    "    test_dir = data_dir + '/test'\n",
    "    \n",
    "    batch_size = 32\n",
    "    \n",
    "    train_transforms = transforms.Compose([\n",
    "                                transforms.Resize(224),\n",
    "                                transforms.RandomRotation(30),\n",
    "                                transforms.RandomResizedCrop(224),\n",
    "                                transforms.RandomHorizontalFlip(),\n",
    "                                transforms.ToTensor(),\n",
    "                                transforms.Normalize(mean=[0.485, 0.456, 0.406], \n",
    "                                                                std=[0.229, 0.224, 0.225])])\n",
    "    valid_transforms = transforms.Compose([\n",
    "                                transforms.RandomResizedCrop(224),\n",
    "                                transforms.ToTensor(),\n",
    "                                transforms.Normalize([0.485, 0.456, 0.406], [0.229, 0.224, 0.225])\n",
    "                                ])\n",
    "    test_transforms = transforms.Compose([\n",
    "                                transforms.RandomResizedCrop(224),\n",
    "                                transforms.ToTensor(),\n",
    "                                transforms.Normalize([0.485, 0.456, 0.406], [0.229, 0.224, 0.225])\n",
    "                                ])\n",
    "\n",
    "    train_data = datasets.ImageFolder(train_dir, transform=train_transforms)\n",
    "    valid_data = datasets.ImageFolder(valid_dir, transform=valid_transforms)\n",
    "    test_data = datasets.ImageFolder(test_dir, transform=test_transforms)\n",
    "\n",
    "    trainloader = torch.utils.data.DataLoader(train_data, batch_size=batch_size, shuffle=True)\n",
    "    validloader = torch.utils.data.DataLoader(valid_data, batch_size=batch_size, shuffle=True)\n",
    "    testloader = torch.utils.data.DataLoader(test_data, batch_size=batch_size, shuffle=True)\n",
    "    print(\"start\")\n",
    "    optimizer, model = define_model(artitecture=artitecture, hidden=hidden, learn_rate=learn_rate, gpu=True)\n",
    "    print(\"phase1\")\n",
    "    train_model(model=model,learn_rate=learn_rate, epochs=epochs, gpu=True)\n",
    "    print(\"phase2\")\n",
    "    model.class_to_idx = train_data.class_to_idx\n",
    "    save_status(model=model, filename=filename, artitecture= artitecture, hidden = hidden)\n",
    "    print(\"phase3\")"
   ]
  },
  {
   "cell_type": "code",
   "execution_count": null,
   "metadata": {
    "scrolled": true
   },
   "outputs": [
    {
     "name": "stdout",
     "output_type": "stream",
     "text": [
      "start\n"
     ]
    },
    {
     "name": "stderr",
     "output_type": "stream",
     "text": [
      "/opt/conda/lib/python3.6/site-packages/torchvision-0.2.1-py3.6.egg/torchvision/models/densenet.py:212: UserWarning: nn.init.kaiming_normal is now deprecated in favor of nn.init.kaiming_normal_.\n"
     ]
    },
    {
     "name": "stdout",
     "output_type": "stream",
     "text": [
      "phase1\n"
     ]
    },
    {
     "name": "stderr",
     "output_type": "stream",
     "text": [
      "/opt/conda/lib/python3.6/site-packages/ipykernel_launcher.py:68: UserWarning: invalid index of a 0-dim tensor. This will be an error in PyTorch 0.5. Use tensor.item() to convert a 0-dim tensor to a Python number\n",
      "/opt/conda/lib/python3.6/site-packages/ipykernel_launcher.py:77: UserWarning: volatile was removed and now has no effect. Use `with torch.no_grad():` instead.\n",
      "/opt/conda/lib/python3.6/site-packages/ipykernel_launcher.py:78: UserWarning: volatile was removed and now has no effect. Use `with torch.no_grad():` instead.\n",
      "/opt/conda/lib/python3.6/site-packages/ipykernel_launcher.py:84: UserWarning: invalid index of a 0-dim tensor. This will be an error in PyTorch 0.5. Use tensor.item() to convert a 0-dim tensor to a Python number\n"
     ]
    },
    {
     "name": "stdout",
     "output_type": "stream",
     "text": [
      "Epoch: 1/1..  Training Loss: 4.572..  Validation Loss: 4.462..  Validation Accuracy: 0.044\n",
      "Epoch: 1/1..  Training Loss: 4.379..  Validation Loss: 4.173..  Validation Accuracy: 0.063\n",
      "Epoch: 1/1..  Training Loss: 4.031..  Validation Loss: 3.883..  Validation Accuracy: 0.141\n"
     ]
    }
   ],
   "source": [
    "mainFunction(artitecture='densenet121', hidden=50, learn_rate=0.001, epochs=1, filename=\"test.pth\", gpu=True)"
   ]
  },
  {
   "cell_type": "code",
   "execution_count": null,
   "metadata": {},
   "outputs": [],
   "source": []
  }
 ],
 "metadata": {
  "kernelspec": {
   "display_name": "Python 3",
   "language": "python",
   "name": "python3"
  },
  "language_info": {
   "codemirror_mode": {
    "name": "ipython",
    "version": 3
   },
   "file_extension": ".py",
   "mimetype": "text/x-python",
   "name": "python",
   "nbconvert_exporter": "python",
   "pygments_lexer": "ipython3",
   "version": "3.6.3"
  }
 },
 "nbformat": 4,
 "nbformat_minor": 2
}
